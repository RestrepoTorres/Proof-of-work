{
  "cells": [
    {
      "cell_type": "markdown",
      "metadata": {
        "id": "view-in-github",
        "colab_type": "text"
      },
      "source": [
        "<a href=\"https://colab.research.google.com/github/RestrepoTorres/Proof-of-work/blob/master/Blockchain.ipynb\" target=\"_parent\"><img src=\"https://colab.research.google.com/assets/colab-badge.svg\" alt=\"Open In Colab\"/></a>"
      ]
    },
    {
      "cell_type": "code",
      "execution_count": null,
      "metadata": {
        "id": "K_OYNYk9lxUg"
      },
      "outputs": [],
      "source": [
        "import hashlib\n",
        "import numpy as np\n",
        "from datetime import datetime\n",
        "\n",
        "DIFICUlTAD_prueba_de_trabajo = 3"
      ]
    },
    {
      "cell_type": "code",
      "execution_count": null,
      "metadata": {
        "id": "C5gYPTkslk-i"
      },
      "outputs": [],
      "source": [
        "# Mineros que realizan la prueba de trabajo para añadir transacciones a un nuevo bloque\n",
        "class minero():\n",
        "  def __init__(self,lista, id):\n",
        "    self.cadena_bloques = lista\n",
        "    self.id = id\n",
        "\n",
        "  def validar_firma(self,bloque,firma_parametro, nonce):\n",
        "    bloque_temp = bloque\n",
        "    bloque_temp.set_nonce(str(nonce))\n",
        "    firma_calculada = hashlib.sha256((bloque_temp.texto_plano()).encode()).hexdigest()\n",
        "    return firma_parametro == firma_calculada\n",
        "\n",
        "  def add_block_to_blockchain(self,bloque):\n",
        "    firma = self.prueba_de_trabajo(bloque)\n",
        "    bloque.set_firma(firma)\n",
        "    bloque.set_fecha(datetime.now())\n",
        "    bloque.set_minero(self.id)\n",
        "    self.cadena_bloques.añadir_bloque(bloque)\n",
        "\n",
        "  def prueba_de_trabajo(self, bloque):\n",
        "    prueba_cumplida = False\n",
        "    i = 0\n",
        "    while(not prueba_cumplida):\n",
        "      nonce = np.random.randint(0, 4294967295)\n",
        "      bloque.set_nonce(str(nonce))\n",
        "      firma = hashlib.sha256((bloque.texto_plano()).encode()).hexdigest()\n",
        "      prueba_cumplida = self.validar_ceros(firma)\n",
        "      i+=1\n",
        "      print(\"nonce: \", nonce)\n",
        "      print(\"intentos: \", i)\n",
        "    return firma\n",
        "\n",
        "  def validar_ceros(self,firma):\n",
        "    chars = list(firma)\n",
        "    for i in range(0,DIFICUlTAD_prueba_de_trabajo):\n",
        "      if(chars[i]!=\"0\"):\n",
        "        return False\n",
        "    print(\"la firma buena fue \", firma)\n",
        "    return True"
      ]
    },
    {
      "cell_type": "code",
      "execution_count": null,
      "metadata": {
        "id": "_4WO76kulojH"
      },
      "outputs": [],
      "source": [
        "#Libro de cuentas donde se van anotando las transacciones realizadas\n",
        "#La clase es muy sencilla, se podría completar teniendo un campo de origen, destinatario y valor\n",
        "#En el blochain real estas transacciones se encriptan con un sistema de clave publica y privada\n",
        "\n",
        "class transacciones():\n",
        "  def __init__(self):\n",
        "    self.transacciones = \"\"\n",
        "\n",
        "  def añadir_transacción(self,nueva_transaccion):\n",
        "    self.transacciones = self.transacciones+nueva_transaccion\n",
        "\n",
        "  def get_transacciones(self):\n",
        "    return self.transacciones"
      ]
    },
    {
      "cell_type": "code",
      "execution_count": null,
      "metadata": {
        "id": "TafIwwe9lsdX"
      },
      "outputs": [],
      "source": [
        "class bloque():\n",
        "  def __init__(self, firma_bloque_anterior):\n",
        "    self.transacciones = transacciones()\n",
        "    self.firma_anterior = firma_bloque_anterior\n",
        "    self.nonce = None\n",
        "    self.minero = None\n",
        "    self.fecha = None\n",
        "    self.firma = None\n",
        "\n",
        "  def set_nonce(self, nonce):\n",
        "    self.nonce = nonce\n",
        "  def set_minero(self, minero):\n",
        "    self.minero = minero\n",
        "  def set_fecha(self, fecha):\n",
        "    self.fecha = fecha\n",
        "  def set_firma(self,firma):\n",
        "    self.firma = firma\n",
        "  def get_firma_bloque_anterior(self):\n",
        "    return self.firma_bloque_anterior\n",
        "  def get_transacciones(self):\n",
        "    return self.transacciones\n",
        "  def get_firma(self):\n",
        "   return self.firma\n",
        "  def get_nonce (self):\n",
        "    return self.nonce\n",
        "\n",
        "\n",
        "  def add_transactions(self, cambios):\n",
        "    self.transacciones.añadir_transacción(cambios)\n",
        "\n",
        "  def texto_plano(self):\n",
        "    transacciones = str(self.transacciones)\n",
        "    nonce= str(self.nonce)\n",
        "    firma_anterior = str(self.firma_anterior)\n",
        "    resultado= \"Transacciones: \"+transacciones+\"nonce: \"+nonce+\"firma anterior: \" +firma_anterior\n",
        "    return resultado"
      ]
    },
    {
      "cell_type": "code",
      "execution_count": null,
      "metadata": {
        "id": "7ZZYVnOTZ84S"
      },
      "outputs": [],
      "source": [
        "class Blockchain():\n",
        "  def __init__(self):\n",
        "    self.chain =[]\n",
        "\n",
        "  def añadir_bloque(self,bloque):\n",
        "    self.chain.append(bloque)\n",
        "\n",
        "  def ultimo_hash(self):\n",
        "    return self.chain[-1].get_firma\n",
        "  def get_cadena(self):\n",
        "    return self.chain"
      ]
    },
    {
      "cell_type": "code",
      "execution_count": null,
      "metadata": {
        "id": "T-9uis1iDeAO"
      },
      "outputs": [],
      "source": [
        "diamondcoin = Blockchain()\n",
        "steve = minero(diamondcoin, 1017270327)\n",
        "\n",
        "bloque_genesis = bloque(\"000\") # no tiene transacciones por ahora y la firma del bloque anterior es 000\n",
        "bloque_genesis.add_transactions(\"stive le pasa a alex 10 diamantes\")\n",
        "bloque_genesis.add_transactions(\"Alex le da 5 diamantes a un enderman\")\n",
        "\n",
        "steve.add_block_to_blockchain(bloque_genesis)"
      ]
    },
    {
      "cell_type": "code",
      "source": [
        "bloque_uno = bloque(diamondcoin.ultimo_hash())\n",
        "bloque_uno.add_transactions(\"el gobierno le da 100 diamantes a todo el salon\")\n",
        "\n",
        "steve.add_block_to_blockchain(bloque_uno)"
      ],
      "metadata": {
        "id": "esZ2zZVGKcyn"
      },
      "execution_count": null,
      "outputs": []
    }
  ],
  "metadata": {
    "colab": {
      "provenance": [],
      "authorship_tag": "ABX9TyPLloGb15/9YRX5Bw7FbBiF",
      "include_colab_link": true
    },
    "kernelspec": {
      "display_name": "Python 3",
      "name": "python3"
    },
    "language_info": {
      "name": "python"
    }
  },
  "nbformat": 4,
  "nbformat_minor": 0
}